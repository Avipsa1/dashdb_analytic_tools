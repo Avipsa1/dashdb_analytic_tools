{
 "cells": [
  {
   "cell_type": "markdown",
   "metadata": {},
   "source": [
    "# Running Spark ML on DashDB sample data"
   ]
  },
  {
   "cell_type": "markdown",
   "metadata": {},
   "source": [
    "Import the necessary Spark classes"
   ]
  },
  {
   "cell_type": "code",
   "execution_count": 1,
   "metadata": {
    "collapsed": true
   },
   "outputs": [],
   "source": [
    "import org.apache.spark.ml.Pipeline\n",
    "import org.apache.spark.ml.clustering.KMeans\n",
    "import org.apache.spark.ml.clustering.KMeansModel\n",
    "import org.apache.spark.ml.feature.VectorAssembler"
   ]
  },
  {
   "cell_type": "markdown",
   "metadata": {},
   "source": [
    "Load the data from the TRAINING sample. This table is pre-populated in dashDB local."
   ]
  },
  {
   "cell_type": "code",
   "execution_count": 2,
   "metadata": {
    "collapsed": false
   },
   "outputs": [
    {
     "data": {
      "text/plain": [
       "[DAY_MINS: decimal(5,1), EVE_CALLS: int, INTL_MINS: decimal(4,1), NIGHT_CALLS: int, SVC_CALLS: int, VMAIL: smallint, DAY_CALLS: int, DAY_CHARGE: decimal(5,2), EVE_CHARGE: decimal(5,2), EVE_MINS: decimal(5,1), NIGHT_CHARGE: decimal(5,2), NIGHT_MINS: decimal(5,1), INTL_CALLS: int, INTL_CHARGE: decimal(4,2), AREA: int, CHURN: smallint, VMAIL_MSGS: int]"
      ]
     },
     "execution_count": 2,
     "metadata": {},
     "output_type": "execute_result"
    }
   ],
   "source": [
    "val data = sqlContext.read.format(\"com.ibm.idax.spark.idaxsource\").\n",
    "    option(\"url\", \"jdbc:db2:BLUDB\").\n",
    "    option(\"dbtable\", \"SAMPLES.TRAINING\").\n",
    "    option(\"mode\", \"JDBC\").\n",
    "    load()\n",
    "data"
   ]
  },
  {
   "cell_type": "markdown",
   "metadata": {},
   "source": [
    "Build a Spark ML pipeline that selects the call counts from the customer data and clusters them using KMeans"
   ]
  },
  {
   "cell_type": "code",
   "execution_count": 5,
   "metadata": {
    "collapsed": false
   },
   "outputs": [
    {
     "data": {
      "text/plain": [
       "Array(vecAssembler_9c9ee57c795b, kmeans_3dd26598f35e)"
      ]
     },
     "execution_count": 5,
     "metadata": {},
     "output_type": "execute_result"
    }
   ],
   "source": [
    "val assembler = new VectorAssembler().\n",
    "    setInputCols(Array(\"INTL_CALLS\", \"DAY_CALLS\", \"EVE_CALLS\", \"NIGHT_CALLS\")).\n",
    "    setOutputCol(\"features\")\n",
    "\n",
    "val clustering = new KMeans().\n",
    "    setFeaturesCol(\"features\").\n",
    "    setK(3).\n",
    "    setMaxIter(3)\n",
    "\n",
    "val pipe = new Pipeline().\n",
    "    setStages(Array(assembler, clustering))\n",
    "\n",
    "pipe.getStages"
   ]
  },
  {
   "cell_type": "markdown",
   "metadata": {},
   "source": [
    "Run the pipeline to find the clusters"
   ]
  },
  {
   "cell_type": "code",
   "execution_count": 5,
   "metadata": {
    "collapsed": true
   },
   "outputs": [],
   "source": [
    "val model = pipe.fit(data)"
   ]
  },
  {
   "cell_type": "markdown",
   "metadata": {},
   "source": [
    "Print out the cluster centers"
   ]
  },
  {
   "cell_type": "code",
   "execution_count": null,
   "metadata": {
    "collapsed": false
   },
   "outputs": [
    {
     "name": "stdout",
     "output_type": "stream",
     "text": [
      "[4.5121816168327795,108.42746400885936,105.26467331118494,108.61517165005537]\n",
      "[4.378435517970402,84.23255813953489,119.11205073995772,90.81818181818183]\n",
      "[4.468690702087287,94.01328273244782,82.76375711574953,89.69924098671727]\n"
     ]
    }
   ],
   "source": [
    "model.stages(1).asInstanceOf[KMeansModel].clusterCenters.foreach { println }"
   ]
  },
  {
   "cell_type": "code",
   "execution_count": null,
   "metadata": {
    "collapsed": true
   },
   "outputs": [],
   "source": []
  }
 ],
 "metadata": {
  "kernelspec": {
   "display_name": "IDAX - Scala",
   "language": "scala",
   "name": "idax-scala"
  },
  "language_info": {
   "name": "scala",
   "version": "2.10.4"
  }
 },
 "nbformat": 4,
 "nbformat_minor": 0
}
